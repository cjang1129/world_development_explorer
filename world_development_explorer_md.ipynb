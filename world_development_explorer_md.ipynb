{
  "nbformat": 4,
  "nbformat_minor": 0,
  "metadata": {
    "colab": {
      "name": "world_development_explorer.md",
      "provenance": [],
      "authorship_tag": "ABX9TyM1Sbw+s/Ui7bMFnys8m2QK",
      "include_colab_link": true
    },
    "kernelspec": {
      "name": "python3",
      "display_name": "Python 3"
    },
    "language_info": {
      "name": "python"
    }
  },
  "cells": [
    {
      "cell_type": "markdown",
      "metadata": {
        "id": "view-in-github",
        "colab_type": "text"
      },
      "source": [
        "<a href=\"https://colab.research.google.com/github/cjang1129/world_development_explorer/blob/main/world_development_explorer_md.ipynb\" target=\"_parent\"><img src=\"https://colab.research.google.com/assets/colab-badge.svg\" alt=\"Open In Colab\"/></a>"
      ]
    },
    {
      "cell_type": "markdown",
      "metadata": {
        "id": "DblVCa20L23l"
      },
      "source": [
        "# Individual Project - 1\n",
        "> UMBC DATA 690 Spring 2021\n",
        "\n",
        "## World Development Indicators (WDI) \n",
        "### The information in this project is derived from http://www.worlddev.xyz/\n",
        "### The WDI is a cross-country analytical tool that provides data on 1400+ socioeconomic indicators of 200+ countries over the span of 50+ years. It's primary datasource is the World Bank.\n",
        "### The World Development Explorer (WDX) allows users to interact with the WDI on a click & play type of interface. The unique feature of the WDX is the incorporation of Hofestede's Cultural Dimensions which allows users to view how culture affects socioeconomic factors. "
      ]
    },
    {
      "cell_type": "markdown",
      "metadata": {
        "id": "nTNVGTaXN1iH"
      },
      "source": [
        "### The WDX describes the Financial Sector data as, \"the size and liquidity of stock markets; the accessibility, stability, and efficiency of financial systems [...] which affect growth and social welfare...\""
      ]
    },
    {
      "cell_type": "markdown",
      "metadata": {
        "id": "wwI3FQx4L_BT"
      },
      "source": [
        "### My project will focus on the Financial sector for the years 2010-2019. Mainly on the number of stocks traded, the percent change of the S&P Global Equity Indices, and the percent of inflation in consumer prices. "
      ]
    },
    {
      "cell_type": "markdown",
      "metadata": {
        "id": "LZ4sHlUzMcbE"
      },
      "source": [
        "> Numerous factors affect the financial sector and the stock market. I will be comparing the annual percentage of inflation (consumer prices) for both the United States (North America) and South Korea (East Asia & Pacific). These factors include presidential regimes, the global pandemic, and regional crises (i.e. housing crash of '08). "
      ]
    },
    {
      "cell_type": "markdown",
      "metadata": {
        "id": "gSur8XGENXOX"
      },
      "source": [
        "### Analyzing the inflation rate in relation to stocks traded and the S&P Global Equity Indices allows us to dive deeper into being able to accurately depict relevant attributes of the next crises (see \"financial 2010\" graph) "
      ]
    },
    {
      "cell_type": "markdown",
      "metadata": {
        "id": "YyEVvY7tQVI7"
      },
      "source": [
        "> The 2010 graph shows that South Korea had a lower rate of stocks traded with a higher percentage change on the S&P Global Indices. This resulted in a higher percentage of inflation for consumer prices. Conversely, America showed higher amounts of stocks traded with less change in the S&P Global Indices which resulted in less inflation. "
      ]
    },
    {
      "cell_type": "markdown",
      "metadata": {
        "id": "O7DJM1SYQ3yH"
      },
      "source": [
        "### It is quite interesting to view the change over time when viewing the \"Financial 2019\" graph"
      ]
    },
    {
      "cell_type": "markdown",
      "metadata": {
        "id": "sTZhsmNiRAZ4"
      },
      "source": [
        "> In 2019, both South Korea and the United States are similar in the annual percent change on the S&P Global Indices. The U.S. shows a higher percent of stocks traded as well as a higher inflation percent. While South Korea has similar S&P percentages, it is the opposite for stocks traded and inflation. Both categories show lower rates than the U.S.\n"
      ]
    },
    {
      "cell_type": "markdown",
      "metadata": {
        "id": "TwZnRG2iSuHS"
      },
      "source": [
        "### These findings create more questions into how the financial sector's implications are tangible in a socioeconomic standpoint.\n",
        "> For example, how GDP/population size/life expectancy plays a part in the amount of funds available to invest into the stock market during those years (see \"GDP 2010\" and \"GDP 2018\")"
      ]
    },
    {
      "cell_type": "markdown",
      "metadata": {
        "id": "PlTDQVisSxBY"
      },
      "source": [
        ""
      ]
    }
  ]
}